{
 "cells": [
  {
   "cell_type": "markdown",
   "id": "d84f37f12188ecf4",
   "metadata": {},
   "source": [
    "### Import Libraries"
   ]
  },
  {
   "cell_type": "code",
   "id": "721d7dd0",
   "metadata": {},
   "source": [
    "import pandas as pd\n",
    "import numpy as np\n",
    "import seaborn as sns\n",
    "import matplotlib.pyplot as plt\n",
    "from sklearn.metrics import classification_report, confusion_matrix, recall_score, f1_score\n",
    "\n",
    "\n",
    "import tensorflow as tf\n",
    "from tensorflow.keras.models import Sequential, load_model\n",
    "from tensorflow.keras.layers import (\n",
    "    InputLayer,\n",
    "    Conv2D,\n",
    "    MaxPooling2D,\n",
    "    GlobalAveragePooling2D,\n",
    "    Activation,\n",
    "    Flatten,\n",
    "    Dense,\n",
    "    Dropout\n",
    ")\n",
    "from tensorflow.keras.preprocessing.image import ImageDataGenerator\n",
    "\n",
    "from tensorflow.keras.applications import VGG19, EfficientNetB0\n",
    "from tensorflow.keras.optimizers import Adam\n",
    "\n",
    "import os\n",
    "from PIL import Image\n",
    "\n",
    "is_gpu = tf.config.list_physical_devices('GPU')[0]\n",
    "if is_gpu:\n",
    "    print(\"GPU available\")\n",
    "\n",
    "import warnings\n",
    "warnings.filterwarnings('ignore')"
   ],
   "outputs": [],
   "execution_count": null
  },
  {
   "cell_type": "markdown",
   "id": "2e0196a7f904a172",
   "metadata": {},
   "source": [
    "### Download Dataset if running on Google Colab"
   ]
  },
  {
   "cell_type": "code",
   "id": "60999cb7",
   "metadata": {},
   "source": [
    "if 'google.colab' in str(get_ipython()):\n",
    "    print('Downloading cards image classification...\\n')\n",
    "    !mkdir -p data\n",
    "    !curl -L -o data/cards-image-dataset.zip https://www.kaggle.com/api/v1/datasets/download/gpiosenka/cards-image-datasetclassification\n",
    "    !unzip -q data/cards-image-dataset.zip -d data\n",
    "    !rm data/cards-image-dataset.zip\n",
    "    print('Dataset downloaded and extracted to data directory.')\n",
    "    print('Download demo image for testing...')\n",
    "    !mkdir -p uploads\n",
    "    !curl -L -o \"uploads/demo.jpg\" https://thumbs.dreamstime.com/z/ten-clubs-card-clipping-path-one-series-images-showing-each-playing-standard-deck-all-have-easy-manipulation-270099775.jpg\n",
    "    print('Demo image downloaded to uploads directory.')\n",
    "else:\n",
    "    print('Not running on Colab')"
   ],
   "outputs": [],
   "execution_count": null
  },
  {
   "cell_type": "markdown",
   "id": "8aef2f72b770872d",
   "metadata": {},
   "source": [
    "### Load Dataset"
   ]
  },
  {
   "cell_type": "code",
   "id": "cc43ee21",
   "metadata": {},
   "source": [
    "data = pd.read_csv('data/cards.csv', delimiter=',')\n",
    "data"
   ],
   "outputs": [],
   "execution_count": null
  },
  {
   "cell_type": "markdown",
   "id": "96e17a6cc5f5398",
   "metadata": {},
   "source": [
    "### Data Preprocessing & Exploration"
   ]
  },
  {
   "cell_type": "code",
   "id": "9dbac3f2",
   "metadata": {},
   "source": [
    "print(f\"Number of card types: {len(data['card type'].unique())}\")\n",
    "print(f\"Number of card types with their suits: {len(data['labels'].unique())}\")"
   ],
   "outputs": [],
   "execution_count": null
  },
  {
   "cell_type": "code",
   "id": "1072dc0e3783240f",
   "metadata": {},
   "source": [
    "data['card type'] = data['card type'].replace('xxx', 'joker')\n",
    "\n",
    "# show unique card types and their counts\n",
    "card_types = data['card type'].value_counts()\n",
    "print(\"Card Types and their counts:\")\n",
    "print(card_types)\n",
    "\n",
    "# plot card types distribution\n",
    "plt.figure(figsize=(12, 6))\n",
    "sns.countplot(data=data, x='card type', order=card_types.index)\n",
    "plt.title('Distribution of Card Types')\n",
    "plt.xlabel('Card Type')\n",
    "plt.ylabel('Count')\n",
    "plt.xticks(rotation=45)\n",
    "plt.grid(axis='y', linestyle='--', alpha=0.7)\n",
    "plt.tight_layout()\n",
    "plt.show()\n"
   ],
   "outputs": [],
   "execution_count": null
  },
  {
   "cell_type": "markdown",
   "id": "2de452f3f8068708",
   "metadata": {},
   "source": [
    "### Custom Models Functions"
   ]
  },
  {
   "cell_type": "code",
   "id": "b5bf57c7caa0b52e",
   "metadata": {},
   "source": [
    "def create_custom_model_v1(shape, num_classes=14) -> tf.keras.Model:\n",
    "    custom_model = Sequential(\n",
    "        [\n",
    "            InputLayer(shape),\n",
    "            Conv2D(16, (3, 3), padding='same', activation='relu'),\n",
    "            MaxPooling2D((2, 2)),\n",
    "            Flatten(),\n",
    "            Dense(num_classes, activation=\"softmax\"),\n",
    "        ],\n",
    "        name='custom_model_v1'\n",
    "    )\n",
    "\n",
    "    custom_model.summary()\n",
    "\n",
    "    return custom_model\n",
    "\n",
    "\n",
    "def create_custom_model_v2(shape, num_classes=14) -> tf.keras.Model:\n",
    "    custom_model = Sequential(\n",
    "        [\n",
    "            InputLayer(shape),\n",
    "            Conv2D(32, (3, 3), padding='same', activation='relu'),\n",
    "            MaxPooling2D((2, 2)),\n",
    "\n",
    "            Conv2D(64, (3, 3), padding='same', activation='relu'),\n",
    "            MaxPooling2D((2, 2)),\n",
    "\n",
    "            Conv2D(128, (3, 3), padding='same', activation='relu'),\n",
    "            MaxPooling2D((2, 2)),\n",
    "\n",
    "            Flatten(),\n",
    "            Dense(num_classes, activation=\"softmax\"),\n",
    "        ],\n",
    "        name='custom_model_v2')\n",
    "\n",
    "    custom_model.summary()\n",
    "\n",
    "    return custom_model\n",
    "\n",
    "\n",
    "def create_custom_model_v3(shape, num_classes=14) -> tf.keras.Model:\n",
    "    custom_model = Sequential(\n",
    "        [\n",
    "            InputLayer(shape),\n",
    "            Conv2D(32, (3, 3)),\n",
    "\n",
    "            Activation('relu'),\n",
    "            MaxPooling2D((2, 2)),\n",
    "\n",
    "            Conv2D(64, (3, 3)),\n",
    "\n",
    "            Activation('relu'),\n",
    "            MaxPooling2D((2, 2)),\n",
    "\n",
    "            Conv2D(128, (3, 3)),\n",
    "\n",
    "            Activation('relu'),\n",
    "            MaxPooling2D((2, 2)),\n",
    "\n",
    "            Conv2D(256, (3, 3)),\n",
    "\n",
    "            Activation('relu'),\n",
    "            MaxPooling2D((2, 2)),\n",
    "\n",
    "            Flatten(),\n",
    "            Dense(512, activation=\"relu\"),\n",
    "            Dropout(0.5),\n",
    "            Dense(num_classes, activation=\"softmax\"),\n",
    "        ],\n",
    "        name='custom_model_v3'\n",
    "    )\n",
    "\n",
    "    custom_model.summary()\n",
    "\n",
    "    return custom_model\n",
    "\n",
    "\n",
    "def create_pretrained_model_vgg19(shape=(224, 224, 3), num_classes=14) -> tf.keras.Model:\n",
    "    base_model = VGG19(weights='imagenet', include_top=False, input_shape=shape)\n",
    "    base_model.trainable = True\n",
    "\n",
    "    for layer in base_model.layers[:-8]:  # keep early  layers frozen\n",
    "        layer.trainable = False\n",
    "\n",
    "    vgg = Sequential(\n",
    "        [\n",
    "            base_model,\n",
    "            GlobalAveragePooling2D(),\n",
    "            Dense(512, activation='relu'),\n",
    "            Dropout(0.2),\n",
    "            Dense(256, activation='relu'),\n",
    "            Dropout(0.2),\n",
    "            Dense(num_classes, activation='softmax')\n",
    "        ],\n",
    "        name='vgg19_pretrained_model'\n",
    "    )\n",
    "\n",
    "    vgg.summary()\n",
    "\n",
    "    return vgg\n",
    "\n",
    "\n",
    "def create_pretrained_model_resnet50(shape=(224, 224, 3), num_classes=14) -> tf.keras.Model:\n",
    "    base_model = tf.keras.applications.ResNet50(weights='imagenet', include_top=False, input_shape=shape)\n",
    "    base_model.trainable = True\n",
    "    for layer in base_model.layers[:-15]:  # keep early layers frozen\n",
    "        layer.trainable = False\n",
    "\n",
    "    resnet50 = Sequential(\n",
    "        [\n",
    "            base_model,\n",
    "            GlobalAveragePooling2D(),\n",
    "            Dense(512, activation=\"relu\"),\n",
    "            Dropout(0.3),\n",
    "            Dense(256, activation=\"relu\"),\n",
    "            Dropout(0.3),\n",
    "            Dense(num_classes, activation=\"softmax\"),\n",
    "        ],\n",
    "        name=\"resnet50_pretrained_model\"\n",
    "    )\n",
    "\n",
    "    resnet50.summary()\n",
    "\n",
    "    return resnet50"
   ],
   "outputs": [],
   "execution_count": null
  },
  {
   "cell_type": "markdown",
   "id": "a408922e54fa30f2",
   "metadata": {},
   "source": [
    "### Helper Functions"
   ]
  },
  {
   "cell_type": "code",
   "id": "98b3dbf0",
   "metadata": {},
   "source": [
    "def data_generator(data, batch_size=32, target_size=(224, 224), y_col='card type', use_augmentation=False):\n",
    "    is_train_set = data['data set'].iloc[0] == 'train'\n",
    "    if is_train_set and use_augmentation:\n",
    "        # For training data, apply data augmentation if specified\n",
    "        datagen = ImageDataGenerator(\n",
    "            rescale=1. / 255, # Scales pixel values from the range [0, 255] to [0, 1]\n",
    "            rotation_range=30, # Randomly rotates images by up to 30 degrees (either clockwise or counter-clockwise\n",
    "            zoom_range=0.2, # Randomly zooms in/out inside images by up to 20%\n",
    "            horizontal_flip=True, # Randomly flips images horizontally\n",
    "            fill_mode='nearest', # Use the nearest pixel value to fill in the gap\n",
    "        )\n",
    "    else:\n",
    "        # No augmentation for validation, test data and train data\n",
    "        datagen = ImageDataGenerator(rescale=1. / 255)\n",
    "\n",
    "    generator = datagen.flow_from_dataframe(\n",
    "        dataframe=data,\n",
    "        x_col='filepaths',\n",
    "        y_col=y_col,\n",
    "        directory='data',\n",
    "        target_size=target_size,\n",
    "        color_mode='rgb',\n",
    "        batch_size=batch_size,\n",
    "        class_mode='categorical',\n",
    "        shuffle=is_train_set,\n",
    "        seed=42,\n",
    "    )\n",
    "    return generator\n",
    "\n",
    "\n",
    "def plot_images(generator, num_images=8):\n",
    "    images, labels = next(generator)\n",
    "    plt.figure(figsize=(6, 6))\n",
    "    for i in range(num_images):\n",
    "        plt.subplot(2, 4, i + 1)\n",
    "        plt.imshow(images[i])\n",
    "        plt.title(list(generator.class_indices.keys())[np.argmax(labels[i])])\n",
    "        plt.axis('off')\n",
    "    plt.tight_layout()\n",
    "    plt.show()\n",
    "\n",
    "\n",
    "def get_optimizer(optimizer_name='adam', learning_rate=0.001) -> tf.keras.optimizers.Optimizer:\n",
    "    params = {\n",
    "        'class_name': optimizer_name,\n",
    "        'config': {\n",
    "            'learning_rate': learning_rate\n",
    "        }\n",
    "    }\n",
    "\n",
    "    return tf.keras.optimizers.get(params)\n",
    "\n",
    "\n",
    "def get_loss(loss_name='categorical_crossentropy') -> tf.keras.losses.Loss:\n",
    "    loss = tf.keras.losses.get(loss_name)\n",
    "    return loss\n",
    "\n",
    "\n",
    "def prepare_model(model, optimizer='Adam', loss='categorical_crossentropy', learning_rate=0.001,\n",
    "                  metrics=['accuracy']) -> tf.keras.Model:\n",
    "    model.compile(\n",
    "        optimizer=get_optimizer(optimizer, learning_rate),\n",
    "        loss=get_loss(loss),\n",
    "        metrics=metrics\n",
    "    )\n",
    "    return model\n",
    "\n",
    "\n",
    "def early_stopping_callback(monitor='val_loss', patience=10) -> tf.keras.callbacks.EarlyStopping:\n",
    "    return tf.keras.callbacks.EarlyStopping(\n",
    "        monitor=monitor,\n",
    "        patience=patience,\n",
    "        restore_best_weights=True\n",
    "    )\n",
    "\n",
    "\n",
    "def model_checkpoint_callback(filepath='models/custom_model.h5',\n",
    "                              monitor='val_loss') -> tf.keras.callbacks.ModelCheckpoint:\n",
    "    return tf.keras.callbacks.ModelCheckpoint(\n",
    "        filepath=filepath,\n",
    "        monitor=monitor,\n",
    "        save_best_only=True\n",
    "    )\n",
    "\n",
    "\n",
    "def train_model(model, train, validation, epochs=10, batch_size=32, use_early_stopping=None, save_name=None,\n",
    "                verbose=1) -> tf.keras.callbacks.History:\n",
    "    callbacks = []\n",
    "\n",
    "    if use_early_stopping:\n",
    "        callbacks.append(early_stopping_callback(monitor='val_accuracy', patience=5))\n",
    "\n",
    "    if save_name:\n",
    "        if not os.path.exists(f'models/labels_{model.output_shape[1]}'):\n",
    "            os.makedirs(f'models/labels_{model.output_shape[1]}')\n",
    "\n",
    "        callbacks.append(model_checkpoint_callback(filepath=f'models/labels_{model.output_shape[1]}/{save_name}.h5',\n",
    "                                                   monitor='val_accuracy'))\n",
    "\n",
    "    return model.fit(\n",
    "        train,\n",
    "        validation_data=validation,\n",
    "        epochs=epochs,\n",
    "        batch_size=batch_size,\n",
    "        verbose=verbose,\n",
    "        steps_per_epoch=len(train),\n",
    "        validation_steps=len(validation),\n",
    "        callbacks=callbacks\n",
    "    )\n",
    "\n",
    "\n",
    "def predict_model(model, generator, verbose=1) -> np.ndarray:\n",
    "    return model.predict(generator, verbose=verbose)\n",
    "\n",
    "\n",
    "def get_classification_report(model, generator) -> str:\n",
    "    predictions = predict_model(model, generator)\n",
    "    y_pred = np.argmax(predictions, axis=1)\n",
    "    y_true = test_generator.classes\n",
    "    print(\n",
    "        classification_report(y_true, y_pred, target_names=list(test_generator.class_indices.keys()), zero_division=0))\n",
    "\n",
    "\n",
    "def get_recall_score(model, generator):\n",
    "    predictions = predict_model(model, generator, verbose=0)\n",
    "    y_pred = np.argmax(predictions, axis=1)\n",
    "    y_true = test_generator.classes\n",
    "    return recall_score(y_true, y_pred, average='macro')\n",
    "\n",
    "\n",
    "def get_f1_score(model, generator):\n",
    "    predictions = predict_model(model, generator, verbose=0)\n",
    "    y_pred = np.argmax(predictions, axis=1)\n",
    "    y_true = test_generator.classes\n",
    "    return f1_score(y_true, y_pred, average='macro')\n",
    "\n",
    "\n",
    "def plot_confusion_matrix(model, generator, verbose=0) -> None:\n",
    "    predictions = model.predict(generator, verbose=verbose)\n",
    "    y_pred = np.argmax(predictions, axis=1)\n",
    "    y_true = generator.classes\n",
    "    cm = confusion_matrix(y_true, y_pred)\n",
    "    class_names = list(generator.class_indices.keys())\n",
    "    plt.figure(figsize=(10, 8))\n",
    "    sns.heatmap(cm, annot=True, fmt='d', cmap='Blues', xticklabels=class_names, yticklabels=class_names)\n",
    "    plt.title('Confusion Matrix')\n",
    "    plt.xlabel('Predicted')\n",
    "    plt.ylabel('True')\n",
    "    plt.show()\n",
    "\n",
    "\n",
    "def plot_training_history(history):\n",
    "    plt.figure(figsize=(12, 6))\n",
    "\n",
    "    epochs = range(1, len(history.history['accuracy']) + 1)\n",
    "\n",
    "    # Plot training accuracy\n",
    "    plt.subplot(1, 2, 1)\n",
    "    plt.plot(epochs, history.history['accuracy'], label='Train Accuracy')\n",
    "    if 'val_accuracy' in history.history:\n",
    "        plt.plot(epochs, history.history['val_accuracy'], label='Validation Accuracy')\n",
    "        best_val_acc = max(history.history['val_accuracy'])\n",
    "        best_epoch = history.history['val_accuracy'].index(best_val_acc) + 1  # +1 because epochs start at 1\n",
    "        plt.plot(best_epoch, best_val_acc, 'ro')  # Highlight best validation accuracy\n",
    "    plt.title('Training and Validation Accuracy')\n",
    "    plt.xticks(epochs)\n",
    "    plt.xlabel('Epochs')\n",
    "    plt.ylabel('Accuracy')\n",
    "    plt.legend()\n",
    "\n",
    "    # Plot training loss\n",
    "    plt.subplot(1, 2, 2)\n",
    "    plt.plot(epochs, history.history['loss'], label='Train Loss')\n",
    "    if 'val_loss' in history.history:\n",
    "        plt.plot(epochs, history.history['val_loss'], label='Validation Loss')\n",
    "    plt.title('Training and Validation Loss')\n",
    "    plt.xticks(epochs)\n",
    "    plt.xlabel('Epochs')\n",
    "    plt.ylabel('Loss')\n",
    "    plt.legend()\n",
    "\n",
    "    plt.tight_layout()\n",
    "    plt.show()\n",
    "\n",
    "def print_model_performance(model, history, valid_generator, test_generator) -> None:\n",
    "    best_val_accuracy = max(history.history['val_accuracy'])\n",
    "    best_epoch = history.history['val_accuracy'].index(best_val_accuracy)\n",
    "    print(f\"Saved at Epoch: {best_epoch + 1}\")\n",
    "\n",
    "    val_loss = history.history['val_loss'][best_epoch]\n",
    "    val_accuracy = history.history['val_accuracy'][best_epoch]\n",
    "    test_loss, test_accuracy = model.evaluate(test_generator, verbose=0)\n",
    "\n",
    "    recall = get_recall_score(model, test_generator)\n",
    "    f1 = get_f1_score(model, test_generator)\n",
    "\n",
    "    print(f\"Validation Loss: {round(val_loss, 2)}\")\n",
    "    print(f\"Validation Accuracy: {round(val_accuracy * 100, 2)}%\")\n",
    "    print(f\"Test Loss: {round(test_loss, 2)}\")\n",
    "    print(f\"Test Accuracy: {round(test_accuracy * 100, 2)}%\")\n",
    "    print(f\"Macro Recall: {round(recall * 100, 2)}%\")\n",
    "    print(f\"Macro F1: {round(f1 * 100, 2)}%\")\n",
    "\n",
    "\n",
    "def load_and_preprocess_image(image_path, target_size=(224, 224)):\n",
    "    img = Image.open(image_path).convert('RGB')\n",
    "    img = img.resize(target_size)\n",
    "    img_array = np.array(img) / 255.0  # Normalize the image\n",
    "    img_array = np.expand_dims(img_array, axis=0)\n",
    "    return img_array\n",
    "\n",
    "\n",
    "def get_predicted_label(model, path):\n",
    "    img_array = load_and_preprocess_image(path)\n",
    "    predictions = model.predict(img_array, verbose=0)\n",
    "    predicted_class = np.argmax(predictions, axis=1)[0]\n",
    "    class_labels = list(test_generator.class_indices.keys())\n",
    "    return class_labels[predicted_class]\n",
    "\n",
    "\n",
    "def display_prediction(model, path):\n",
    "    predicted_label = get_predicted_label(model, path)\n",
    "    img = Image.open(path)\n",
    "    plt.imshow(img)\n",
    "    plt.axis('off')\n",
    "    plt.title(f\"Prediction: {predicted_label}\")\n",
    "    plt.show()\n",
    "    plt.close()\n"
   ],
   "outputs": [],
   "execution_count": null
  },
  {
   "cell_type": "markdown",
   "id": "61df9b1927d0c09f",
   "metadata": {},
   "source": [
    "### Generate Data without augmentation"
   ]
  },
  {
   "cell_type": "code",
   "id": "9cb00b7805eaf9a3",
   "metadata": {},
   "source": [
    "y_col = 'card type' # 'labels' for all cards & 'card type' for suits\n",
    "train_generator = data_generator(data[data['data set'] == 'train'], y_col=y_col, use_augmentation=False)\n",
    "valid_generator = data_generator(data[data['data set'] == 'valid'], y_col=y_col, use_augmentation=False) # use_augmentation is always false\n",
    "test_generator = data_generator(data[data['data set'] == 'test'], y_col=y_col, use_augmentation=False) # use_augmentation is always false"
   ],
   "outputs": [],
   "execution_count": null
  },
  {
   "cell_type": "code",
   "id": "9031ba529c2ad72b",
   "metadata": {},
   "source": [
    "test_generator.class_indices"
   ],
   "outputs": [],
   "execution_count": null
  },
  {
   "cell_type": "code",
   "id": "9120c64547ec6b12",
   "metadata": {},
   "source": [
    "plot_images(train_generator, num_images=8)"
   ],
   "outputs": [],
   "execution_count": null
  },
  {
   "cell_type": "markdown",
   "id": "9ea4e52a3b6224a6",
   "metadata": {},
   "source": [
    "### Custom Model v1"
   ]
  },
  {
   "cell_type": "code",
   "id": "4b0a05597dd4abc6",
   "metadata": {},
   "source": [
    "model_shape = 'shape' if tf.__version__ >= '2.10.1' else 'input_shape'\n",
    "print(\"TensorFlow version:\", tf.__version__)\n",
    "\n",
    "input_args = {\n",
    "    model_shape: (224, 224, 3)\n",
    "}"
   ],
   "outputs": [],
   "execution_count": null
  },
  {
   "cell_type": "code",
   "id": "6849e8b53e8c53fc",
   "metadata": {},
   "source": [
    "model = create_custom_model_v1(**input_args, num_classes=len(train_generator.class_indices))\n",
    "model = prepare_model(model, optimizer='adam', loss='categorical_crossentropy', learning_rate=0.0003, metrics=['accuracy'])\n",
    "\n",
    "history = train_model(model, train_generator, valid_generator, epochs=20, batch_size=32, use_early_stopping = True, save_name=model.name, verbose=1)"
   ],
   "outputs": [],
   "execution_count": null
  },
  {
   "cell_type": "code",
   "id": "a4e765f6a59972b1",
   "metadata": {},
   "source": [
    "get_classification_report(model, test_generator)"
   ],
   "outputs": [],
   "execution_count": null
  },
  {
   "cell_type": "code",
   "id": "246a6c9d9fbf5006",
   "metadata": {},
   "source": [
    "plot_training_history(history)"
   ],
   "outputs": [],
   "execution_count": null
  },
  {
   "cell_type": "code",
   "id": "2a303c1e8f2de1e2",
   "metadata": {},
   "source": [
    "plot_confusion_matrix(model, test_generator)"
   ],
   "outputs": [],
   "execution_count": null
  },
  {
   "cell_type": "code",
   "id": "8f3672a5c2f9127f",
   "metadata": {},
   "source": [
    "print('Model Performance Evaluation:')\n",
    "print_model_performance(model, history, valid_generator, test_generator)"
   ],
   "outputs": [],
   "execution_count": null
  },
  {
   "cell_type": "code",
   "id": "75c0f6262c85d153",
   "metadata": {},
   "source": [
    "image_path = 'uploads/demo.jpg'\n",
    "print('Displaying prediction for a sample image...')\n",
    "display_prediction(model, image_path)"
   ],
   "outputs": [],
   "execution_count": null
  },
  {
   "cell_type": "markdown",
   "id": "c407e5db2fa6dec0",
   "metadata": {},
   "source": [
    "### Custom Model v2"
   ]
  },
  {
   "cell_type": "code",
   "id": "de240cf4cfdc71c0",
   "metadata": {},
   "source": [
    "model = create_custom_model_v2(**input_args, num_classes=len(train_generator.class_indices))\n",
    "model = prepare_model(model, optimizer='adam', loss='categorical_crossentropy', learning_rate=0.0003, metrics=['accuracy'])\n",
    "\n",
    "history = train_model(model, train_generator, valid_generator, epochs=20, batch_size=32, use_early_stopping = True, save_name=model.name, verbose=1)"
   ],
   "outputs": [],
   "execution_count": null
  },
  {
   "cell_type": "code",
   "id": "fa0819d635977337",
   "metadata": {},
   "source": [
    "get_classification_report(model, test_generator)"
   ],
   "outputs": [],
   "execution_count": null
  },
  {
   "cell_type": "code",
   "id": "b1edb009a519b20e",
   "metadata": {},
   "source": [
    "plot_training_history(history)\n",
    "plot_confusion_matrix(model, test_generator)"
   ],
   "outputs": [],
   "execution_count": null
  },
  {
   "cell_type": "code",
   "id": "fb95db31c7897c94",
   "metadata": {},
   "source": [
    "print('Model Performance Evaluation:')\n",
    "print_model_performance(model, history, valid_generator, test_generator)"
   ],
   "outputs": [],
   "execution_count": null
  },
  {
   "cell_type": "code",
   "id": "45dd32883eea5e23",
   "metadata": {},
   "source": [
    "image_path = 'uploads/demo.jpg'\n",
    "print('Displaying prediction for a sample image...')\n",
    "display_prediction(model, image_path)"
   ],
   "outputs": [],
   "execution_count": null
  },
  {
   "cell_type": "markdown",
   "id": "60222269bf37be9c",
   "metadata": {},
   "source": [
    "---"
   ]
  },
  {
   "cell_type": "markdown",
   "id": "b11572bd22166391",
   "metadata": {},
   "source": [
    "### Custom Model v3"
   ]
  },
  {
   "cell_type": "code",
   "id": "3cfb04fce33747c1",
   "metadata": {},
   "source": [
    "model = create_custom_model_v3(**input_args, num_classes=len(train_generator.class_indices))\n",
    "model = prepare_model(model, optimizer='adam', loss='categorical_crossentropy', learning_rate=0.001,\n",
    "                      metrics=['accuracy'])\n",
    "\n",
    "history = train_model(model, train_generator, valid_generator, epochs=30, batch_size=32, use_early_stopping=True,\n",
    "                      save_name=model.name, verbose=1)"
   ],
   "outputs": [],
   "execution_count": null
  },
  {
   "cell_type": "code",
   "id": "397dc7ef3723467f",
   "metadata": {},
   "source": [
    "get_classification_report(model, test_generator)"
   ],
   "outputs": [],
   "execution_count": null
  },
  {
   "cell_type": "code",
   "id": "4b422fbb411e315e",
   "metadata": {},
   "source": [
    "plot_training_history(history)\n",
    "plot_confusion_matrix(model, test_generator)"
   ],
   "outputs": [],
   "execution_count": null
  },
  {
   "cell_type": "code",
   "id": "c0ec3ef55e1acfa3",
   "metadata": {},
   "source": [
    "print('Model Performance Evaluation:')\n",
    "print_model_performance(model, history, valid_generator, test_generator)"
   ],
   "outputs": [],
   "execution_count": null
  },
  {
   "cell_type": "code",
   "id": "24a8c02f1b2733ec",
   "metadata": {},
   "source": [
    "image_path = 'uploads/demo.jpg'\n",
    "print('Displaying prediction for a sample image...')\n",
    "display_prediction(model, image_path)"
   ],
   "outputs": [],
   "execution_count": null
  },
  {
   "cell_type": "markdown",
   "id": "8805ddb39d58e6dd",
   "metadata": {},
   "source": [
    "### VGG 19"
   ]
  },
  {
   "cell_type": "code",
   "id": "5908af1f",
   "metadata": {},
   "source": [
    "vgg19_model = create_pretrained_model_vgg19(shape=(224, 224, 3), num_classes=len(train_generator.class_indices))\n",
    "\n",
    "vgg19_model = prepare_model(vgg19_model, optimizer='adam', loss='categorical_crossentropy', learning_rate=0.0003, metrics=['accuracy'])\n",
    "history = train_model(vgg19_model, train_generator, valid_generator, epochs=20, batch_size=32, use_early_stopping=True, save_name=vgg19_model.name, verbose=1)"
   ],
   "outputs": [],
   "execution_count": null
  },
  {
   "cell_type": "code",
   "id": "a3f53ffe8b6f111f",
   "metadata": {},
   "source": [
    "get_classification_report(vgg19_model, test_generator)"
   ],
   "outputs": [],
   "execution_count": null
  },
  {
   "cell_type": "code",
   "id": "89c9774fc0c950e2",
   "metadata": {},
   "source": [
    "plot_training_history(history)\n",
    "plot_confusion_matrix(vgg19_model, test_generator)"
   ],
   "outputs": [],
   "execution_count": null
  },
  {
   "cell_type": "code",
   "id": "246f7311209f29c7",
   "metadata": {},
   "source": [
    "print('Model Performance Evaluation:')\n",
    "print_model_performance(vgg19_model, history, valid_generator, test_generator)"
   ],
   "outputs": [],
   "execution_count": null
  },
  {
   "cell_type": "code",
   "id": "e39c178c93c41037",
   "metadata": {},
   "source": [
    "image_path = 'uploads/demo.jpg'\n",
    "print('Displaying prediction for a sample image...')\n",
    "display_prediction(vgg19_model, image_path)"
   ],
   "outputs": [],
   "execution_count": null
  },
  {
   "cell_type": "markdown",
   "id": "37ec739255e8b4ba",
   "metadata": {},
   "source": [
    "### ResNet50"
   ]
  },
  {
   "cell_type": "code",
   "id": "167b6891c0d2a637",
   "metadata": {},
   "source": [
    "resnet50_model = create_pretrained_model_resnet50(shape=(224, 224, 3), num_classes=len(train_generator.class_indices))\n",
    "resnet50_model = prepare_model(resnet50_model, optimizer='adam', loss='categorical_crossentropy', learning_rate=0.0003, metrics=['accuracy'])\n",
    "history = train_model(resnet50_model, train_generator, valid_generator, epochs=30, batch_size=16, use_early_stopping=True, save_name=resnet50_model.name, verbose=1)"
   ],
   "outputs": [],
   "execution_count": null
  },
  {
   "cell_type": "code",
   "id": "d4aae11b87ad9f9a",
   "metadata": {},
   "source": [
    "get_classification_report(resnet50_model, test_generator)"
   ],
   "outputs": [],
   "execution_count": null
  },
  {
   "cell_type": "code",
   "id": "84b559f041ee3bfd",
   "metadata": {},
   "source": [
    "plot_training_history(history)\n",
    "plot_confusion_matrix(resnet50_model, test_generator)"
   ],
   "outputs": [],
   "execution_count": null
  },
  {
   "cell_type": "code",
   "id": "6980a401db33cfa7",
   "metadata": {},
   "source": [
    "print('Model Performance Evaluation:')\n",
    "print_model_performance(resnet50_model, history, valid_generator, test_generator)"
   ],
   "outputs": [],
   "execution_count": null
  },
  {
   "cell_type": "code",
   "id": "6490099fde285602",
   "metadata": {},
   "source": [
    "image_path = 'uploads/demo.jpg'\n",
    "print('Displaying prediction for a sample image...')\n",
    "display_prediction(resnet50_model, image_path)"
   ],
   "outputs": [],
   "execution_count": null
  },
  {
   "cell_type": "markdown",
   "id": "230980c29c86c176",
   "metadata": {},
   "source": [
    "### Generate Data with augmentation"
   ]
  },
  {
   "cell_type": "markdown",
   "id": "832c4db21a29876c",
   "metadata": {},
   "source": [
    "#### !!! Augmentation is only applied to training data !!!"
   ]
  },
  {
   "cell_type": "code",
   "id": "5b357afba05a5d3c",
   "metadata": {},
   "source": [
    "train_generator = data_generator(data[data['data set'] == 'train'], y_col=y_col, use_augmentation=True)\n",
    "valid_generator = data_generator(data[data['data set'] == 'valid'], y_col=y_col, use_augmentation=False) # here use_augmentation is always false\n",
    "test_generator = data_generator(data[data['data set'] == 'test'], y_col=y_col, use_augmentation=False) # here use_augmentation is always false\n",
    "\n",
    "data['card type'] = data['card type'].replace('xxx', 'joker')"
   ],
   "outputs": [],
   "execution_count": null
  },
  {
   "cell_type": "markdown",
   "id": "389a2a5ec0d967b3",
   "metadata": {},
   "source": [
    "### Custom Model v3 with Augmentation"
   ]
  },
  {
   "cell_type": "code",
   "id": "2a7a06311cea460b",
   "metadata": {},
   "source": [
    "model = create_custom_model_v3(**input_args, num_classes=len(train_generator.class_indices))\n",
    "model = prepare_model(model, optimizer='adam', loss='categorical_crossentropy', learning_rate=0.001,\n",
    "                      metrics=['accuracy'])\n",
    "\n",
    "history = train_model(model, train_generator, valid_generator, epochs=30, batch_size=128, use_early_stopping=True,\n",
    "                      save_name=\"custom_model_v3_augmented\", verbose=1)"
   ],
   "outputs": [],
   "execution_count": null
  },
  {
   "cell_type": "code",
   "id": "d8c98abab2c3347e",
   "metadata": {},
   "source": [
    "get_classification_report(model, test_generator)"
   ],
   "outputs": [],
   "execution_count": null
  },
  {
   "cell_type": "code",
   "id": "10dd63b9084ed1b7",
   "metadata": {},
   "source": [
    "plot_training_history(history)\n",
    "plot_confusion_matrix(model, test_generator)"
   ],
   "outputs": [],
   "execution_count": null
  },
  {
   "cell_type": "code",
   "id": "c32fcc29c22756ce",
   "metadata": {},
   "source": [
    "print('Model Performance Evaluation:')\n",
    "print_model_performance(model, history, valid_generator, test_generator)"
   ],
   "outputs": [],
   "execution_count": null
  },
  {
   "cell_type": "code",
   "id": "cdbe8c0b47f8592d",
   "metadata": {},
   "source": [
    "image_path = 'uploads/demo.jpg'\n",
    "print('Displaying prediction for a sample image...')\n",
    "display_prediction(model, image_path)"
   ],
   "outputs": [],
   "execution_count": null
  },
  {
   "cell_type": "markdown",
   "id": "f67c070213c9aaf",
   "metadata": {},
   "source": [
    "### VGG 19 with Augmentation"
   ]
  },
  {
   "cell_type": "code",
   "id": "a11354a916df68d3",
   "metadata": {},
   "source": [
    "vgg19_model = create_pretrained_model_vgg19(shape=(224, 224, 3), num_classes=len(train_generator.class_indices))\n",
    "\n",
    "vgg19_model = prepare_model(vgg19_model, optimizer='adam', loss='categorical_crossentropy', learning_rate=0.0003,\n",
    "                            metrics=['accuracy'])\n",
    "history = train_model(vgg19_model, train_generator, valid_generator, epochs=30, batch_size=32, use_early_stopping=True,\n",
    "                      save_name=\"vgg19_pretrained_model_augmented\", verbose=1)"
   ],
   "outputs": [],
   "execution_count": null
  },
  {
   "cell_type": "code",
   "id": "f7aae0bb400f5fe8",
   "metadata": {},
   "source": [
    "get_classification_report(vgg19_model, test_generator)"
   ],
   "outputs": [],
   "execution_count": null
  },
  {
   "cell_type": "code",
   "id": "81e2b67deda8a305",
   "metadata": {},
   "source": [
    "plot_training_history(history)\n",
    "plot_confusion_matrix(vgg19_model, test_generator)"
   ],
   "outputs": [],
   "execution_count": null
  },
  {
   "cell_type": "code",
   "id": "a723747c3aa043e9",
   "metadata": {},
   "source": [
    "print('Model Performance Evaluation:')\n",
    "print_model_performance(vgg19_model, history, valid_generator, test_generator)"
   ],
   "outputs": [],
   "execution_count": null
  },
  {
   "cell_type": "code",
   "id": "1104b78de8e2b25d",
   "metadata": {},
   "source": [
    "image_path = 'uploads/demo.jpg'\n",
    "print('Displaying prediction for a sample image...')\n",
    "display_prediction(vgg19_model, image_path)"
   ],
   "outputs": [],
   "execution_count": null
  },
  {
   "cell_type": "markdown",
   "id": "e723d4d1c595ee77",
   "metadata": {},
   "source": [
    "### ResNet50 with Augmentation"
   ]
  },
  {
   "cell_type": "code",
   "id": "264489a11567c2de",
   "metadata": {},
   "source": [
    "resnet50_model = create_pretrained_model_resnet50(shape=(224, 224, 3), num_classes=len(train_generator.class_indices))\n",
    "\n",
    "resnet50_model = prepare_model(resnet50_model, optimizer='adam', loss='categorical_crossentropy', learning_rate=0.0003,\n",
    "                            metrics=['accuracy'])\n",
    "history = train_model(resnet50_model, train_generator, valid_generator, epochs=20, batch_size=32, use_early_stopping=True,\n",
    "                      save_name=\"resnet50_pretrained_model_augmented\", verbose=1)"
   ],
   "outputs": [],
   "execution_count": null
  },
  {
   "cell_type": "code",
   "id": "7a99acb742bc6e8a",
   "metadata": {},
   "source": [
    "get_classification_report(resnet50_model, test_generator)"
   ],
   "outputs": [],
   "execution_count": null
  },
  {
   "cell_type": "code",
   "id": "3db18128806fde54",
   "metadata": {},
   "source": [
    "plot_training_history(history)\n",
    "plot_confusion_matrix(resnet50_model, test_generator)"
   ],
   "outputs": [],
   "execution_count": null
  },
  {
   "cell_type": "code",
   "id": "f75e97fdfab8d0b8",
   "metadata": {},
   "source": [
    "print('Model Performance Evaluation:')\n",
    "print_model_performance(resnet50_model, history, valid_generator, test_generator)"
   ],
   "outputs": [],
   "execution_count": null
  },
  {
   "cell_type": "code",
   "id": "1463cd4dace9aabe",
   "metadata": {},
   "source": [
    "image_path = 'uploads/demo.jpg'\n",
    "print('Displaying prediction for a sample image...')\n",
    "display_prediction(resnet50_model, image_path)"
   ],
   "outputs": [],
   "execution_count": null
  },
  {
   "cell_type": "code",
   "id": "f05274714125788f",
   "metadata": {},
   "source": [],
   "outputs": [],
   "execution_count": null
  }
 ],
 "metadata": {
  "kernelspec": {
   "display_name": "tf_gpu",
   "language": "python",
   "name": "python3"
  },
  "language_info": {
   "codemirror_mode": {
    "name": "ipython",
    "version": 3
   },
   "file_extension": ".py",
   "mimetype": "text/x-python",
   "name": "python",
   "nbconvert_exporter": "python",
   "pygments_lexer": "ipython3",
   "version": "3.9.23"
  }
 },
 "nbformat": 4,
 "nbformat_minor": 5
}
